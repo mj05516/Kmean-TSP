{
 "cells": [
  {
   "cell_type": "code",
   "execution_count": 34,
   "metadata": {},
   "outputs": [],
   "source": [
    "import numpy as np\n",
    "import random\n",
    "from classes import *\n",
    "from selection_scheme import *\n",
    "import matplotlib.pyplot as plt\n",
    "from itertools import permutations\n",
    "from tqdm import tqdm"
   ]
  },
  {
   "cell_type": "code",
   "execution_count": 35,
   "metadata": {},
   "outputs": [],
   "source": [
    "class TSP():\n",
    "    def __init__(self, filename):\n",
    "        self.population = []\n",
    "        self.best_so_far = []\n",
    "        self.bestpath = node([-2,-2,-2])\n",
    "        self.avg_so_far = []\n",
    "        self.children = []\n",
    "        self.node_lst = []\n",
    "        self.filename = filename\n",
    "\n",
    "        self.mutation_rate = 0.7\n",
    "        self.no_generations = 1000\n",
    "        self.no_iteration = 1\n",
    "        self.population_size = 100\n",
    "        self.off_size = 75\n",
    "\n",
    "    def generate_population(self):\n",
    "        for i in range(self.no_generations):\n",
    "            random.shuffle(self.node_lst)\n",
    "            temp = copy.deepcopy(self.node_lst)\n",
    "            temp = chromosome(temp)\n",
    "            self.population.append(temp)\n",
    "\n",
    "    def make_children(self):\n",
    "        for x in range(self.off_size):\n",
    "            selected_chromosomes = binary_tournament_selection(self.population, 2, True, False)\n",
    "            temp = selected_chromosomes[0].crossover(selected_chromosomes[1])\n",
    "            self.children.append(temp)\n",
    "\n",
    "    def mutate(self):\n",
    "        for x in range(len(self.children)):\n",
    "            if random.random() < self.mutation_rate:\n",
    "                self.children[x].mutate()\n",
    "\n",
    "    def survival_of_the_fitest(self):\n",
    "        self.population = self.population + self.children\n",
    "        self.children.clear()\n",
    "        self.population = truncation_selection(self.population, self.population_size, False, False)\n",
    "        \n",
    "        # sort population by fitness\n",
    "        self.population.sort(key=lambda x: x.fitness)\n",
    "\n",
    "        self.best_so_far.append(self.population[0].fitness)\n",
    "        self.bestpath = self.population[0]\n",
    "        self.avg_so_far.append(sum([self.population[x].fitness for x in range(len(self.population))])/len(self.population))\n"
   ]
  },
  {
   "cell_type": "code",
   "execution_count": 36,
   "metadata": {},
   "outputs": [],
   "source": [
    "class Kmean():\n",
    "    def __init__(self, filename, k=3, n=10) -> None:\n",
    "        self.K = k\n",
    "        self.N = n\n",
    "        self.filename = filename\n",
    "        self.dataset = self.initializePoints()\n",
    "        self.cluster_lst = self.keepClustering(self.dataset, self.K, self.N, False)\n",
    "        self.dict = self.makeDic()\n",
    "        self.region = self.cord_to_region()\n",
    "        \n",
    "\n",
    "    def initializePoints(self, ):\n",
    "        points = []\n",
    "        with open(self.filename, \"r\") as f:\n",
    "            for i in range(7):\n",
    "                f.readline()\n",
    "            for line in f:\n",
    "                data = line.split()\n",
    "                data = [float(x) for x in data[1:]]\n",
    "                points.append(data)\n",
    "        return points[:-1]\n",
    "\n",
    "    def point_clustering(self, points, centroids):\n",
    "        for point in points:\n",
    "            nearest_dist_from_ref = 999**999\n",
    "            centro_point = None\n",
    "            for i in centroids.keys():\n",
    "                euclidean_dist = np.linalg.norm(np.subtract(list(i),list(point)))\n",
    "                if euclidean_dist < nearest_dist_from_ref:\n",
    "                    nearest_dist_from_ref = euclidean_dist\n",
    "                    centro_point = i\n",
    "            centroids[centro_point].append(point)\n",
    "        return centroids\n",
    "\n",
    "    def visualize(self, clustered_data, Iteration):\n",
    "        plotx = []\n",
    "        ploty = []\n",
    "        clr = [\"cyan\",\"magenta\",\"green\", \"red\", \"yellow\", \"blue\"]\n",
    "\n",
    "        for x in clustered_data.keys():\n",
    "            try:\n",
    "                array = np.array(clustered_data[x])\n",
    "                plotx,ploty = array[:,0], array[:,1]\n",
    "                plt.plot(plotx,ploty, '+', color=clr.pop())\n",
    "            except:\n",
    "                pass\n",
    "\n",
    "        for x in clustered_data.keys():\n",
    "            plt.plot(x[0], x[1], 'o' ,color='black')\n",
    "\n",
    "        plt.title(\"Iteration: \" + str(Iteration))\n",
    "        plt.show()\n",
    "\n",
    "    def mean_center(self, centroids):\n",
    "        new_centers = {}\n",
    "        for x in centroids.keys():\n",
    "            array = np.array(centroids[x])\n",
    "            np.shape(array)\n",
    "            try:\n",
    "                xcord,ycord = np.mean(array[:,0]), np.mean(array[:,1])\n",
    "                gravity_center = (xcord,ycord)\n",
    "                new_centers[gravity_center] = []\n",
    "            except:\n",
    "                gravity_center = x\n",
    "                new_centers[gravity_center] = []\n",
    "                self.visualize(centroids, 404)\n",
    "        return new_centers\n",
    "\n",
    "    def cluster(self, points,K,visuals = True):\n",
    "        clusters=[]\n",
    "        data_cluster = self.point_clustering(points, self.make_random_center(points, K))\n",
    "        prev_cntr = data_cluster\n",
    "        iteration = 0\n",
    "        while(True):\n",
    "            new_cntr = self.mean_center(data_cluster)\n",
    "            data_cluster =  self.point_clustering(points, new_cntr)\n",
    "            if visuals: \n",
    "                self.visualize(data_cluster, iteration)\n",
    "\n",
    "            if prev_cntr.keys() == new_cntr.keys():\n",
    "                break\n",
    "            else:\n",
    "                prev_cntr = data_cluster\n",
    "            iteration += 1\n",
    "        \n",
    "        return data_cluster\n",
    "\n",
    "    def make_random_center(self, points, k):\n",
    "        centroids = {}\n",
    "        lst = random.sample(points, k)\n",
    "        for x in lst:\n",
    "            centroids[(x[0],x[1])] = []\n",
    "        return centroids\n",
    "\n",
    "    def clusterQuality(self, clusters):\n",
    "        score = -1\n",
    "        for x in clusters.keys():\n",
    "            for y in clusters[x]:\n",
    "                score += (x[0] - y[0])**2 + (x[1] - y[1])**2\n",
    "\n",
    "        return score\n",
    "\n",
    "    def keepClustering(self, points,K,N,visuals):\n",
    "        clusters = []\n",
    "        lst = []\n",
    "        min = 999**999\n",
    "        for x in range(N):\n",
    "            print(\"Iteration No.: \", x+1, \"/\", N)\n",
    "            data_cluster = self.cluster(points,K,visuals)\n",
    "            score = self.clusterQuality(data_cluster)\n",
    "            print(\"Score: \", score,\"\\n\")\n",
    "            if score < min:\n",
    "                min = score\n",
    "                clusters = ([data_cluster, min, x+1])\n",
    "\n",
    "        for x in clusters[0].keys():\n",
    "            lst.append(clusters[0][x])\n",
    "        return lst\n",
    "\n",
    "    def makeDic(self):\n",
    "        dic = {}\n",
    "        with open(self.filename, \"r\") as f:\n",
    "            for i in range(7):\n",
    "                f.readline()\n",
    "            for line in f:\n",
    "                data = line.split()\n",
    "                if len(data) > 1:\n",
    "                    dic[float(data[1]),float(data[2])] = int(data[0])\n",
    "        return dic\n",
    "    \n",
    "    def cord_to_region(self):\n",
    "        region = []\n",
    "        lst = []\n",
    "        for i in self.cluster_lst:\n",
    "            for j in i:\n",
    "                lst.append(self.dict[j[0],j[1]])\n",
    "            region.append(lst)\n",
    "            lst = []\n",
    "        return region\n"
   ]
  },
  {
   "cell_type": "code",
   "execution_count": 37,
   "metadata": {},
   "outputs": [],
   "source": [
    "def readfile(filename):\n",
    "    node_lst = []\n",
    "    with open(filename, \"r\") as f:\n",
    "        for i in range(7):\n",
    "            f.readline()\n",
    "        for line in f:\n",
    "            data = line.split()\n",
    "            if len(data) > 1:\n",
    "                temp = node(data)\n",
    "                node_lst.append(temp)\n",
    "    return node_lst\n"
   ]
  },
  {
   "cell_type": "code",
   "execution_count": 38,
   "metadata": {},
   "outputs": [],
   "source": [
    "def filter_nodes(node_lst, region):\n",
    "    lst = []\n",
    "    for y in region:\n",
    "        mlst = []\n",
    "        for x in node_lst:\n",
    "            if x.id in y:\n",
    "                mlst.append(x)\n",
    "        lst.append(mlst)\n",
    "        mlst = []\n",
    "    return lst\n"
   ]
  },
  {
   "cell_type": "code",
   "execution_count": 39,
   "metadata": {},
   "outputs": [
    {
     "name": "stdout",
     "output_type": "stream",
     "text": [
      "Iteration No.:  1 / 10\n",
      "Score:  7905971.23055232 \n",
      "\n",
      "Iteration No.:  2 / 10\n",
      "Score:  7905971.230552321 \n",
      "\n",
      "Iteration No.:  3 / 10\n",
      "Score:  7903655.814527427 \n",
      "\n",
      "Iteration No.:  4 / 10\n",
      "Score:  7905971.230552324 \n",
      "\n",
      "Iteration No.:  5 / 10\n",
      "Score:  7905971.230552323 \n",
      "\n",
      "Iteration No.:  6 / 10\n",
      "Score:  7905971.230552321 \n",
      "\n",
      "Iteration No.:  7 / 10\n",
      "Score:  7905971.23055232 \n",
      "\n",
      "Iteration No.:  8 / 10\n",
      "Score:  7903655.814527425 \n",
      "\n",
      "Iteration No.:  9 / 10\n",
      "Score:  7903655.81452743 \n",
      "\n",
      "Iteration No.:  10 / 10\n",
      "Score:  7903655.814527424 \n",
      "\n"
     ]
    }
   ],
   "source": [
    "cluster = Kmean(\"qa194.tsp\")\n",
    "\n",
    "filter_lst = []\n",
    "node_lst = readfile(\"qa194.tsp\")    \n",
    "filter_lst = filter_nodes(node_lst, cluster.region)\n",
    "\n",
    "tsp1 = TSP(\"qa194.tsp\")\n",
    "tsp2 = TSP(\"qa194.tsp\")\n",
    "tsp3 = TSP(\"qa194.tsp\")\n",
    "\n",
    "tsp1.node_lst = filter_lst[0]\n",
    "tsp2.node_lst = filter_lst[1]\n",
    "tsp3.node_lst = filter_lst[2]\n",
    "\n",
    "tsp1.generate_population()\n",
    "tsp2.generate_population()\n",
    "tsp3.generate_population()"
   ]
  },
  {
   "cell_type": "code",
   "execution_count": 40,
   "metadata": {},
   "outputs": [
    {
     "name": "stderr",
     "output_type": "stream",
     "text": [
      "  0%|          | 2/1000 [00:00<01:49,  9.12it/s]"
     ]
    },
    {
     "name": "stdout",
     "output_type": "stream",
     "text": [
      "TSP1: Generation No.:  1\n",
      "Best Fitness Soo Far:  9415.86099689006\n"
     ]
    },
    {
     "name": "stderr",
     "output_type": "stream",
     "text": [
      " 10%|█         | 102/1000 [00:11<01:34,  9.50it/s]"
     ]
    },
    {
     "name": "stdout",
     "output_type": "stream",
     "text": [
      "TSP1: Generation No.:  101\n",
      "Best Fitness Soo Far:  5448.181360357607\n"
     ]
    },
    {
     "name": "stderr",
     "output_type": "stream",
     "text": [
      " 20%|██        | 201/1000 [00:21<01:44,  7.62it/s]"
     ]
    },
    {
     "name": "stdout",
     "output_type": "stream",
     "text": [
      "TSP1: Generation No.:  201\n",
      "Best Fitness Soo Far:  5005.078760186081\n"
     ]
    },
    {
     "name": "stderr",
     "output_type": "stream",
     "text": [
      " 30%|███       | 303/1000 [00:32<01:11,  9.69it/s]"
     ]
    },
    {
     "name": "stdout",
     "output_type": "stream",
     "text": [
      "TSP1: Generation No.:  301\n",
      "Best Fitness Soo Far:  5005.078760186081\n"
     ]
    },
    {
     "name": "stderr",
     "output_type": "stream",
     "text": [
      " 40%|████      | 403/1000 [00:42<01:01,  9.74it/s]"
     ]
    },
    {
     "name": "stdout",
     "output_type": "stream",
     "text": [
      "TSP1: Generation No.:  401\n",
      "Best Fitness Soo Far:  5005.078760186081\n"
     ]
    },
    {
     "name": "stderr",
     "output_type": "stream",
     "text": [
      " 50%|█████     | 502/1000 [00:53<00:54,  9.18it/s]"
     ]
    },
    {
     "name": "stdout",
     "output_type": "stream",
     "text": [
      "TSP1: Generation No.:  501\n",
      "Best Fitness Soo Far:  5005.078760186081\n"
     ]
    },
    {
     "name": "stderr",
     "output_type": "stream",
     "text": [
      " 60%|██████    | 603/1000 [01:03<00:40,  9.76it/s]"
     ]
    },
    {
     "name": "stdout",
     "output_type": "stream",
     "text": [
      "TSP1: Generation No.:  601\n",
      "Best Fitness Soo Far:  5005.078760186081\n"
     ]
    },
    {
     "name": "stderr",
     "output_type": "stream",
     "text": [
      " 70%|███████   | 703/1000 [01:14<00:30,  9.77it/s]"
     ]
    },
    {
     "name": "stdout",
     "output_type": "stream",
     "text": [
      "TSP1: Generation No.:  701\n",
      "Best Fitness Soo Far:  5005.078760186081\n"
     ]
    },
    {
     "name": "stderr",
     "output_type": "stream",
     "text": [
      " 80%|████████  | 802/1000 [01:24<00:20,  9.62it/s]"
     ]
    },
    {
     "name": "stdout",
     "output_type": "stream",
     "text": [
      "TSP1: Generation No.:  801\n",
      "Best Fitness Soo Far:  5005.078760186081\n"
     ]
    },
    {
     "name": "stderr",
     "output_type": "stream",
     "text": [
      " 90%|█████████ | 902/1000 [01:35<00:10,  9.64it/s]"
     ]
    },
    {
     "name": "stdout",
     "output_type": "stream",
     "text": [
      "TSP1: Generation No.:  901\n",
      "Best Fitness Soo Far:  5005.078760186081\n"
     ]
    },
    {
     "name": "stderr",
     "output_type": "stream",
     "text": [
      "100%|██████████| 1000/1000 [01:45<00:00,  9.48it/s]"
     ]
    },
    {
     "name": "stdout",
     "output_type": "stream",
     "text": [
      "TSP1: Best Fitness Soo Far:  5005.078760186081\n",
      "TSP1: Best Path:  [1, 6, 13, 23, 25, 76, 71, 59, 36, 94, 90, 89, 98, 85, 86, 99, 111, 104, 114, 113, 109, 80, 7, 2, 4, 8, 16, 62, 82, 87, 101, 63, 65, 20, 11, 17, 14]\n"
     ]
    },
    {
     "name": "stderr",
     "output_type": "stream",
     "text": [
      "\n"
     ]
    }
   ],
   "source": [
    "for i in tqdm(range(tsp1.no_generations)):\n",
    "    tsp1.make_children()\n",
    "    tsp1.mutate()\n",
    "    tsp1.survival_of_the_fitest()\n",
    "    if i % 100 == 0:\n",
    "        print(\"TSP1: Generation No.: \", i+1)\n",
    "        print(\"Best Fitness Soo Far: \", tsp1.best_so_far[-1])\n",
    "    \n",
    "print(\"TSP1: Best Fitness Soo Far: \", tsp1.bestpath.fitness)\n",
    "print(\"TSP1: Best Path: \", tsp1.bestpath.get_sequence())"
   ]
  },
  {
   "cell_type": "code",
   "execution_count": 41,
   "metadata": {},
   "outputs": [
    {
     "name": "stderr",
     "output_type": "stream",
     "text": [
      "  0%|          | 2/1000 [00:00<03:37,  4.59it/s]"
     ]
    },
    {
     "name": "stdout",
     "output_type": "stream",
     "text": [
      "TSP2: Generation No.:  1\n",
      "Best Fitness Soo Far:  13754.038348052622\n"
     ]
    },
    {
     "name": "stderr",
     "output_type": "stream",
     "text": [
      " 10%|█         | 101/1000 [00:21<03:21,  4.45it/s]"
     ]
    },
    {
     "name": "stdout",
     "output_type": "stream",
     "text": [
      "TSP2: Generation No.:  101\n",
      "Best Fitness Soo Far:  8502.970383935615\n"
     ]
    },
    {
     "name": "stderr",
     "output_type": "stream",
     "text": [
      " 20%|██        | 202/1000 [00:43<02:42,  4.92it/s]"
     ]
    },
    {
     "name": "stdout",
     "output_type": "stream",
     "text": [
      "TSP2: Generation No.:  201\n",
      "Best Fitness Soo Far:  7329.780165695396\n"
     ]
    },
    {
     "name": "stderr",
     "output_type": "stream",
     "text": [
      " 30%|███       | 301/1000 [01:04<02:21,  4.93it/s]"
     ]
    },
    {
     "name": "stdout",
     "output_type": "stream",
     "text": [
      "TSP2: Generation No.:  301\n",
      "Best Fitness Soo Far:  6779.638163692612\n"
     ]
    },
    {
     "name": "stderr",
     "output_type": "stream",
     "text": [
      " 40%|████      | 401/1000 [01:25<02:10,  4.59it/s]"
     ]
    },
    {
     "name": "stdout",
     "output_type": "stream",
     "text": [
      "TSP2: Generation No.:  401\n",
      "Best Fitness Soo Far:  6407.177042109842\n"
     ]
    },
    {
     "name": "stderr",
     "output_type": "stream",
     "text": [
      " 50%|█████     | 502/1000 [01:46<01:49,  4.56it/s]"
     ]
    },
    {
     "name": "stdout",
     "output_type": "stream",
     "text": [
      "TSP2: Generation No.:  501\n",
      "Best Fitness Soo Far:  6407.177042109842\n"
     ]
    },
    {
     "name": "stderr",
     "output_type": "stream",
     "text": [
      " 60%|██████    | 602/1000 [02:07<01:23,  4.74it/s]"
     ]
    },
    {
     "name": "stdout",
     "output_type": "stream",
     "text": [
      "TSP2: Generation No.:  601\n",
      "Best Fitness Soo Far:  6407.177042109842\n"
     ]
    },
    {
     "name": "stderr",
     "output_type": "stream",
     "text": [
      " 70%|███████   | 701/1000 [02:28<01:02,  4.81it/s]"
     ]
    },
    {
     "name": "stdout",
     "output_type": "stream",
     "text": [
      "TSP2: Generation No.:  701\n",
      "Best Fitness Soo Far:  6407.177042109842\n"
     ]
    },
    {
     "name": "stderr",
     "output_type": "stream",
     "text": [
      " 80%|████████  | 801/1000 [02:49<00:42,  4.68it/s]"
     ]
    },
    {
     "name": "stdout",
     "output_type": "stream",
     "text": [
      "TSP2: Generation No.:  801\n",
      "Best Fitness Soo Far:  6407.177042109842\n"
     ]
    },
    {
     "name": "stderr",
     "output_type": "stream",
     "text": [
      " 90%|█████████ | 902/1000 [03:10<00:21,  4.65it/s]"
     ]
    },
    {
     "name": "stdout",
     "output_type": "stream",
     "text": [
      "TSP2: Generation No.:  901\n",
      "Best Fitness Soo Far:  6407.177042109842\n"
     ]
    },
    {
     "name": "stderr",
     "output_type": "stream",
     "text": [
      "100%|██████████| 1000/1000 [03:30<00:00,  4.74it/s]"
     ]
    },
    {
     "name": "stdout",
     "output_type": "stream",
     "text": [
      "TSP2: Best Fitness Soo Far:  6407.177042109842\n",
      "TSP2: Best Path:  [156, 184, 175, 173, 174, 187, 183, 179, 192, 145, 130, 127, 132, 134, 119, 139, 138, 122, 128, 133, 151, 158, 180, 181, 178, 170, 168, 167, 162, 131, 136, 141, 144, 149, 142, 137, 126, 125, 157, 186, 190, 194, 182, 176, 189, 191, 188, 165, 159, 129, 135, 147, 152, 161, 169, 163, 164, 150, 153, 154, 146, 140, 172, 177, 193, 171, 155, 148, 143, 160, 166, 185]\n"
     ]
    },
    {
     "name": "stderr",
     "output_type": "stream",
     "text": [
      "\n"
     ]
    }
   ],
   "source": [
    "for i in tqdm(range(tsp2.no_generations)):\n",
    "    tsp2.make_children()\n",
    "    tsp2.mutate()\n",
    "    tsp2.survival_of_the_fitest()\n",
    "    if i % 100 == 0:\n",
    "        print(\"TSP2: Generation No.: \", i+1)\n",
    "        print(\"Best Fitness Soo Far: \", tsp2.best_so_far[-1])\n",
    "\n",
    "print(\"TSP2: Best Fitness Soo Far: \", tsp2.bestpath.fitness)\n",
    "print(\"TSP2: Best Path: \", tsp2.bestpath.get_sequence())"
   ]
  },
  {
   "cell_type": "code",
   "execution_count": 42,
   "metadata": {},
   "outputs": [
    {
     "name": "stderr",
     "output_type": "stream",
     "text": [
      "  0%|          | 1/1000 [00:00<04:37,  3.60it/s]"
     ]
    },
    {
     "name": "stdout",
     "output_type": "stream",
     "text": [
      "TSP3: Generation:  1\n",
      "Best Fitness Soo Far:  15427.253970860595\n"
     ]
    },
    {
     "name": "stderr",
     "output_type": "stream",
     "text": [
      " 10%|█         | 101/1000 [00:25<03:35,  4.16it/s]"
     ]
    },
    {
     "name": "stdout",
     "output_type": "stream",
     "text": [
      "TSP3: Generation:  101\n",
      "Best Fitness Soo Far:  10051.898102444322\n"
     ]
    },
    {
     "name": "stderr",
     "output_type": "stream",
     "text": [
      " 20%|██        | 201/1000 [00:50<03:12,  4.15it/s]"
     ]
    },
    {
     "name": "stdout",
     "output_type": "stream",
     "text": [
      "TSP3: Generation:  201\n",
      "Best Fitness Soo Far:  10051.898102444322\n"
     ]
    },
    {
     "name": "stderr",
     "output_type": "stream",
     "text": [
      " 30%|███       | 301/1000 [01:14<02:57,  3.93it/s]"
     ]
    },
    {
     "name": "stdout",
     "output_type": "stream",
     "text": [
      "TSP3: Generation:  301\n",
      "Best Fitness Soo Far:  10051.898102444322\n"
     ]
    },
    {
     "name": "stderr",
     "output_type": "stream",
     "text": [
      " 40%|████      | 401/1000 [01:39<02:37,  3.80it/s]"
     ]
    },
    {
     "name": "stdout",
     "output_type": "stream",
     "text": [
      "TSP3: Generation:  401\n",
      "Best Fitness Soo Far:  10051.898102444322\n"
     ]
    },
    {
     "name": "stderr",
     "output_type": "stream",
     "text": [
      " 50%|█████     | 501/1000 [02:04<02:01,  4.11it/s]"
     ]
    },
    {
     "name": "stdout",
     "output_type": "stream",
     "text": [
      "TSP3: Generation:  501\n",
      "Best Fitness Soo Far:  10051.898102444322\n"
     ]
    },
    {
     "name": "stderr",
     "output_type": "stream",
     "text": [
      " 60%|██████    | 601/1000 [02:29<01:38,  4.06it/s]"
     ]
    },
    {
     "name": "stdout",
     "output_type": "stream",
     "text": [
      "TSP3: Generation:  601\n",
      "Best Fitness Soo Far:  10051.898102444322\n"
     ]
    },
    {
     "name": "stderr",
     "output_type": "stream",
     "text": [
      " 70%|███████   | 701/1000 [02:53<01:13,  4.08it/s]"
     ]
    },
    {
     "name": "stdout",
     "output_type": "stream",
     "text": [
      "TSP3: Generation:  701\n",
      "Best Fitness Soo Far:  10051.898102444322\n"
     ]
    },
    {
     "name": "stderr",
     "output_type": "stream",
     "text": [
      " 80%|████████  | 801/1000 [03:18<00:47,  4.18it/s]"
     ]
    },
    {
     "name": "stdout",
     "output_type": "stream",
     "text": [
      "TSP3: Generation:  801\n",
      "Best Fitness Soo Far:  10051.898102444322\n"
     ]
    },
    {
     "name": "stderr",
     "output_type": "stream",
     "text": [
      " 90%|█████████ | 901/1000 [03:43<00:25,  3.93it/s]"
     ]
    },
    {
     "name": "stdout",
     "output_type": "stream",
     "text": [
      "TSP3: Generation:  901\n",
      "Best Fitness Soo Far:  10051.898102444322\n"
     ]
    },
    {
     "name": "stderr",
     "output_type": "stream",
     "text": [
      "100%|██████████| 1000/1000 [04:07<00:00,  4.04it/s]"
     ]
    },
    {
     "name": "stdout",
     "output_type": "stream",
     "text": [
      "TSP3: Best Fitness Soo Far:  10051.898102444322\n",
      "TSP3: Best Path:  [42, 54, 68, 45, 43, 34, 21, 18, 37, 47, 51, 58, 22, 19, 110, 123, 118, 106, 112, 96, 75, 74, 79, 57, 73, 41, 61, 30, 31, 60, 93, 95, 88, 120, 117, 77, 67, 12, 46, 32, 9, 5, 29, 48, 49, 35, 53, 105, 107, 66, 50, 56, 15, 78, 81, 91, 102, 69, 70, 44, 84, 64, 33, 3, 10, 24, 26, 72, 92, 97, 83, 52, 55, 38, 39, 28, 27, 40, 116, 100, 108, 103, 124, 121, 115]\n"
     ]
    },
    {
     "name": "stderr",
     "output_type": "stream",
     "text": [
      "\n"
     ]
    }
   ],
   "source": [
    "for i in tqdm(range(tsp3.no_generations)):\n",
    "    tsp3.make_children()\n",
    "    tsp3.mutate()\n",
    "    tsp3.survival_of_the_fitest()\n",
    "    if i % 100 == 0:\n",
    "        print(\"TSP3: Generation: \", i+1)\n",
    "        print(\"Best Fitness Soo Far: \", tsp3.best_so_far[-1])\n",
    "\n",
    "print(\"TSP3: Best Fitness Soo Far: \", tsp3.bestpath.fitness)\n",
    "print(\"TSP3: Best Path: \", tsp3.bestpath.get_sequence())"
   ]
  },
  {
   "cell_type": "code",
   "execution_count": 43,
   "metadata": {},
   "outputs": [],
   "source": [
    "final = TSP(\"qa194.tsp\")\n",
    "lst = []\n",
    "lst.append(tsp1.bestpath.sequence)\n",
    "lst.append(tsp2.bestpath.sequence)\n",
    "lst.append(tsp3.bestpath.sequence)\n",
    "\n",
    "final.node_lst = tsp1.bestpath.sequence +tsp2.bestpath.sequence + tsp3.bestpath.sequence\n",
    "perm = list(permutations(lst))\n",
    "for x in perm:\n",
    "    temp = []\n",
    "    for y in x:\n",
    "        temp += y\n",
    "    final.population.append(chromosome(temp))\n",
    "    temp = []\n"
   ]
  },
  {
   "cell_type": "code",
   "execution_count": 44,
   "metadata": {},
   "outputs": [
    {
     "name": "stderr",
     "output_type": "stream",
     "text": [
      "  0%|          | 1/1000 [00:00<11:29,  1.45it/s]"
     ]
    },
    {
     "name": "stdout",
     "output_type": "stream",
     "text": [
      "Final: Generation:  1\n",
      "Best Fitness Soo Far:  22785.5124512993\n"
     ]
    },
    {
     "name": "stderr",
     "output_type": "stream",
     "text": [
      " 10%|█         | 101/1000 [00:57<08:31,  1.76it/s]"
     ]
    },
    {
     "name": "stdout",
     "output_type": "stream",
     "text": [
      "Final: Generation:  101\n",
      "Best Fitness Soo Far:  22097.979490790694\n"
     ]
    },
    {
     "name": "stderr",
     "output_type": "stream",
     "text": [
      " 20%|██        | 201/1000 [01:55<07:34,  1.76it/s]"
     ]
    },
    {
     "name": "stdout",
     "output_type": "stream",
     "text": [
      "Final: Generation:  201\n",
      "Best Fitness Soo Far:  21554.285979646138\n"
     ]
    },
    {
     "name": "stderr",
     "output_type": "stream",
     "text": [
      " 30%|███       | 301/1000 [02:52<06:30,  1.79it/s]"
     ]
    },
    {
     "name": "stdout",
     "output_type": "stream",
     "text": [
      "Final: Generation:  301\n",
      "Best Fitness Soo Far:  21251.912373465682\n"
     ]
    },
    {
     "name": "stderr",
     "output_type": "stream",
     "text": [
      " 40%|████      | 401/1000 [03:48<05:34,  1.79it/s]"
     ]
    },
    {
     "name": "stdout",
     "output_type": "stream",
     "text": [
      "Final: Generation:  401\n",
      "Best Fitness Soo Far:  21251.912373465682\n"
     ]
    },
    {
     "name": "stderr",
     "output_type": "stream",
     "text": [
      " 50%|█████     | 501/1000 [04:45<04:37,  1.80it/s]"
     ]
    },
    {
     "name": "stdout",
     "output_type": "stream",
     "text": [
      "Final: Generation:  501\n",
      "Best Fitness Soo Far:  21251.912373465682\n"
     ]
    },
    {
     "name": "stderr",
     "output_type": "stream",
     "text": [
      " 60%|██████    | 601/1000 [05:43<03:52,  1.71it/s]"
     ]
    },
    {
     "name": "stdout",
     "output_type": "stream",
     "text": [
      "Final: Generation:  601\n",
      "Best Fitness Soo Far:  21251.912373465682\n"
     ]
    },
    {
     "name": "stderr",
     "output_type": "stream",
     "text": [
      " 70%|███████   | 701/1000 [06:39<02:47,  1.79it/s]"
     ]
    },
    {
     "name": "stdout",
     "output_type": "stream",
     "text": [
      "Final: Generation:  701\n",
      "Best Fitness Soo Far:  21251.912373465682\n"
     ]
    },
    {
     "name": "stderr",
     "output_type": "stream",
     "text": [
      " 80%|████████  | 801/1000 [07:36<01:53,  1.75it/s]"
     ]
    },
    {
     "name": "stdout",
     "output_type": "stream",
     "text": [
      "Final: Generation:  801\n",
      "Best Fitness Soo Far:  21251.912373465682\n"
     ]
    },
    {
     "name": "stderr",
     "output_type": "stream",
     "text": [
      " 90%|█████████ | 901/1000 [08:35<00:56,  1.76it/s]"
     ]
    },
    {
     "name": "stdout",
     "output_type": "stream",
     "text": [
      "Final: Generation:  901\n",
      "Best Fitness Soo Far:  21251.912373465682\n"
     ]
    },
    {
     "name": "stderr",
     "output_type": "stream",
     "text": [
      "100%|██████████| 1000/1000 [09:31<00:00,  1.75it/s]"
     ]
    },
    {
     "name": "stdout",
     "output_type": "stream",
     "text": [
      "Final: Best Fitness Soo Far:  21251.912373465682\n",
      "Final: Best Path:  [1, 6, 13, 23, 25, 76, 71, 59, 36, 94, 90, 89, 98, 85, 86, 99, 111, 104, 114, 113, 109, 80, 7, 2, 4, 8, 16, 62, 82, 87, 101, 63, 65, 20, 11, 17, 14, 42, 54, 68, 45, 34, 21, 18, 37, 47, 51, 58, 19, 110, 123, 124, 106, 112, 96, 75, 74, 79, 57, 73, 41, 61, 30, 27, 29, 22, 60, 93, 95, 88, 115, 117, 77, 67, 46, 32, 12, 9, 5, 31, 48, 49, 35, 53, 105, 100, 66, 50, 56, 15, 70, 81, 91, 102, 69, 78, 44, 38, 64, 33, 3, 10, 24, 26, 72, 92, 97, 83, 52, 55, 40, 39, 28, 43, 84, 116, 107, 108, 103, 118, 121, 120, 157, 184, 175, 173, 174, 187, 183, 179, 192, 145, 130, 127, 132, 134, 119, 139, 138, 122, 128, 133, 151, 162, 180, 181, 178, 170, 168, 167, 158, 131, 136, 141, 144, 149, 142, 137, 126, 125, 172, 186, 190, 194, 182, 176, 189, 191, 188, 165, 159, 129, 135, 147, 152, 169, 161, 163, 164, 150, 153, 154, 146, 140, 156, 177, 193, 171, 155, 148, 143, 160, 166, 185]\n"
     ]
    },
    {
     "name": "stderr",
     "output_type": "stream",
     "text": [
      "\n"
     ]
    }
   ],
   "source": [
    "for i in tqdm(range(final.no_generations)):\n",
    "    final.make_children()\n",
    "    final.mutate()\n",
    "    final.survival_of_the_fitest()\n",
    "    if i % 100 == 0:\n",
    "        print(\"Final: Generation: \", i+1)\n",
    "        print(\"Best Fitness Soo Far: \", final.bestpath.fitness)\n",
    "\n",
    "print(\"Final: Best Fitness Soo Far: \", final.bestpath.fitness)\n",
    "print(\"Final: Best Path: \", final.bestpath.get_sequence())"
   ]
  }
 ],
 "metadata": {
  "interpreter": {
   "hash": "476638f32d57a64891f0689f604d11c6f5a712caf93c6ec20953691523d91599"
  },
  "kernelspec": {
   "display_name": "Python 3.9.7 64-bit",
   "language": "python",
   "name": "python3"
  },
  "language_info": {
   "codemirror_mode": {
    "name": "ipython",
    "version": 3
   },
   "file_extension": ".py",
   "mimetype": "text/x-python",
   "name": "python",
   "nbconvert_exporter": "python",
   "pygments_lexer": "ipython3",
   "version": "3.9.7"
  },
  "orig_nbformat": 4
 },
 "nbformat": 4,
 "nbformat_minor": 2
}
